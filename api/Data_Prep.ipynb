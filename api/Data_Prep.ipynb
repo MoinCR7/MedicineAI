{
 "cells": [
  {
   "cell_type": "code",
   "execution_count": 2,
   "metadata": {},
   "outputs": [],
   "source": [
    "import pandas as pd\n",
    "import numpy as np\n",
    "import re"
   ]
  },
  {
   "cell_type": "code",
   "execution_count": 3,
   "metadata": {},
   "outputs": [],
   "source": [
    "dataset=pd.read_csv('symtoms_df.csv')"
   ]
  },
  {
   "cell_type": "code",
   "execution_count": 4,
   "metadata": {},
   "outputs": [
    {
     "data": {
      "text/html": [
       "<div>\n",
       "<style scoped>\n",
       "    .dataframe tbody tr th:only-of-type {\n",
       "        vertical-align: middle;\n",
       "    }\n",
       "\n",
       "    .dataframe tbody tr th {\n",
       "        vertical-align: top;\n",
       "    }\n",
       "\n",
       "    .dataframe thead th {\n",
       "        text-align: right;\n",
       "    }\n",
       "</style>\n",
       "<table border=\"1\" class=\"dataframe\">\n",
       "  <thead>\n",
       "    <tr style=\"text-align: right;\">\n",
       "      <th></th>\n",
       "      <th>Unnamed: 0</th>\n",
       "      <th>Disease</th>\n",
       "      <th>Symptom_1</th>\n",
       "      <th>Symptom_2</th>\n",
       "      <th>Symptom_3</th>\n",
       "      <th>Symptom_4</th>\n",
       "    </tr>\n",
       "  </thead>\n",
       "  <tbody>\n",
       "    <tr>\n",
       "      <th>0</th>\n",
       "      <td>0</td>\n",
       "      <td>Fungal infection</td>\n",
       "      <td>itching</td>\n",
       "      <td>skin_rash</td>\n",
       "      <td>nodal_skin_eruptions</td>\n",
       "      <td>dischromic _patches</td>\n",
       "    </tr>\n",
       "    <tr>\n",
       "      <th>1</th>\n",
       "      <td>1</td>\n",
       "      <td>Fungal infection</td>\n",
       "      <td>skin_rash</td>\n",
       "      <td>nodal_skin_eruptions</td>\n",
       "      <td>dischromic _patches</td>\n",
       "      <td>NaN</td>\n",
       "    </tr>\n",
       "    <tr>\n",
       "      <th>2</th>\n",
       "      <td>2</td>\n",
       "      <td>Fungal infection</td>\n",
       "      <td>itching</td>\n",
       "      <td>nodal_skin_eruptions</td>\n",
       "      <td>dischromic _patches</td>\n",
       "      <td>NaN</td>\n",
       "    </tr>\n",
       "    <tr>\n",
       "      <th>3</th>\n",
       "      <td>3</td>\n",
       "      <td>Fungal infection</td>\n",
       "      <td>itching</td>\n",
       "      <td>skin_rash</td>\n",
       "      <td>dischromic _patches</td>\n",
       "      <td>NaN</td>\n",
       "    </tr>\n",
       "    <tr>\n",
       "      <th>4</th>\n",
       "      <td>4</td>\n",
       "      <td>Fungal infection</td>\n",
       "      <td>itching</td>\n",
       "      <td>skin_rash</td>\n",
       "      <td>nodal_skin_eruptions</td>\n",
       "      <td>NaN</td>\n",
       "    </tr>\n",
       "  </tbody>\n",
       "</table>\n",
       "</div>"
      ],
      "text/plain": [
       "   Unnamed: 0           Disease   Symptom_1              Symptom_2  \\\n",
       "0           0  Fungal infection     itching              skin_rash   \n",
       "1           1  Fungal infection   skin_rash   nodal_skin_eruptions   \n",
       "2           2  Fungal infection     itching   nodal_skin_eruptions   \n",
       "3           3  Fungal infection     itching              skin_rash   \n",
       "4           4  Fungal infection     itching              skin_rash   \n",
       "\n",
       "               Symptom_3             Symptom_4  \n",
       "0   nodal_skin_eruptions   dischromic _patches  \n",
       "1    dischromic _patches                   NaN  \n",
       "2    dischromic _patches                   NaN  \n",
       "3    dischromic _patches                   NaN  \n",
       "4   nodal_skin_eruptions                   NaN  "
      ]
     },
     "execution_count": 4,
     "metadata": {},
     "output_type": "execute_result"
    }
   ],
   "source": [
    "dataset.head()"
   ]
  },
  {
   "cell_type": "code",
   "execution_count": 5,
   "metadata": {},
   "outputs": [
    {
     "data": {
      "text/plain": [
       "(4920, 6)"
      ]
     },
     "execution_count": 5,
     "metadata": {},
     "output_type": "execute_result"
    }
   ],
   "source": [
    "dataset.shape"
   ]
  },
  {
   "cell_type": "code",
   "execution_count": 6,
   "metadata": {},
   "outputs": [
    {
     "name": "stderr",
     "output_type": "stream",
     "text": [
      "C:\\Users\\moin2\\AppData\\Local\\Temp\\ipykernel_17100\\3138800437.py:1: FutureWarning: A value is trying to be set on a copy of a DataFrame or Series through chained assignment using an inplace method.\n",
      "The behavior will change in pandas 3.0. This inplace method will never work because the intermediate object on which we are setting values always behaves as a copy.\n",
      "\n",
      "For example, when doing 'df[col].method(value, inplace=True)', try using 'df.method({col: value}, inplace=True)' or df[col] = df[col].method(value) instead, to perform the operation inplace on the original object.\n",
      "\n",
      "\n",
      "  dataset['Symptom_4'].fillna('',inplace=True)\n"
     ]
    }
   ],
   "source": [
    "dataset['Symptom_4'].fillna('',inplace=True)"
   ]
  },
  {
   "cell_type": "code",
   "execution_count": 7,
   "metadata": {},
   "outputs": [],
   "source": [
    "dataset['Symptoms']=dataset['Symptom_1']+','+dataset['Symptom_2']+','+dataset['Symptom_3']+','+dataset['Symptom_4']"
   ]
  },
  {
   "cell_type": "code",
   "execution_count": 8,
   "metadata": {},
   "outputs": [],
   "source": [
    "dataset=dataset[['Symptoms','Disease']]"
   ]
  },
  {
   "cell_type": "code",
   "execution_count": 9,
   "metadata": {},
   "outputs": [],
   "source": [
    "dataset['Symptoms']=dataset['Symptoms'].str.replace('_',' ')"
   ]
  },
  {
   "cell_type": "code",
   "execution_count": 10,
   "metadata": {},
   "outputs": [
    {
     "name": "stdout",
     "output_type": "stream",
     "text": [
      "|      | Symptoms                                                                               | Disease                                 |\n",
      "|-----:|:---------------------------------------------------------------------------------------|:----------------------------------------|\n",
      "| 4910 | fatigue, weight gain, cold hands and feets, mood swings                                | Hypothyroidism                          |\n",
      "| 4911 | fatigue, mood swings, weight loss, restlessness                                        | Hyperthyroidism                         |\n",
      "| 4912 | vomiting, fatigue, anxiety, sweating                                                   | Hypoglycemia                            |\n",
      "| 4913 | joint pain, neck pain, knee pain, hip joint pain                                       | Osteoarthristis                         |\n",
      "| 4914 | muscle weakness, stiff neck, swelling joints, movement stiffness                       | Arthritis                               |\n",
      "| 4915 | vomiting, headache, nausea, spinning movements                                         | (vertigo) Paroymsal  Positional Vertigo |\n",
      "| 4916 | skin rash, pus filled pimples, blackheads, scurring                                    | Acne                                    |\n",
      "| 4917 | burning micturition, bladder discomfort, foul smell of urine, continuous feel of urine | Urinary tract infection                 |\n",
      "| 4918 | skin rash, joint pain, skin peeling, silver like dusting                               | Psoriasis                               |\n",
      "| 4919 | skin rash, high fever, blister, red sore around nose                                   | Impetigo                                |\n"
     ]
    }
   ],
   "source": [
    "print(dataset.tail(10).to_markdown())"
   ]
  },
  {
   "cell_type": "code",
   "execution_count": 11,
   "metadata": {},
   "outputs": [
    {
     "data": {
      "text/plain": [
       "41"
      ]
     },
     "execution_count": 11,
     "metadata": {},
     "output_type": "execute_result"
    }
   ],
   "source": [
    "dataset['Disease'].nunique()"
   ]
  },
  {
   "cell_type": "code",
   "execution_count": 12,
   "metadata": {},
   "outputs": [
    {
     "data": {
      "text/html": [
       "<div>\n",
       "<style scoped>\n",
       "    .dataframe tbody tr th:only-of-type {\n",
       "        vertical-align: middle;\n",
       "    }\n",
       "\n",
       "    .dataframe tbody tr th {\n",
       "        vertical-align: top;\n",
       "    }\n",
       "\n",
       "    .dataframe thead th {\n",
       "        text-align: right;\n",
       "    }\n",
       "</style>\n",
       "<table border=\"1\" class=\"dataframe\">\n",
       "  <thead>\n",
       "    <tr style=\"text-align: right;\">\n",
       "      <th></th>\n",
       "      <th>Symptoms</th>\n",
       "      <th>Disease</th>\n",
       "    </tr>\n",
       "  </thead>\n",
       "  <tbody>\n",
       "    <tr>\n",
       "      <th>0</th>\n",
       "      <td>itching, skin rash, nodal skin eruptions, disc...</td>\n",
       "      <td>Fungal infection</td>\n",
       "    </tr>\n",
       "    <tr>\n",
       "      <th>1</th>\n",
       "      <td>skin rash, nodal skin eruptions, dischromic  ...</td>\n",
       "      <td>Fungal infection</td>\n",
       "    </tr>\n",
       "    <tr>\n",
       "      <th>2</th>\n",
       "      <td>itching, nodal skin eruptions, dischromic  pat...</td>\n",
       "      <td>Fungal infection</td>\n",
       "    </tr>\n",
       "    <tr>\n",
       "      <th>3</th>\n",
       "      <td>itching, skin rash, dischromic  patches,</td>\n",
       "      <td>Fungal infection</td>\n",
       "    </tr>\n",
       "    <tr>\n",
       "      <th>4</th>\n",
       "      <td>itching, skin rash, nodal skin eruptions,</td>\n",
       "      <td>Fungal infection</td>\n",
       "    </tr>\n",
       "  </tbody>\n",
       "</table>\n",
       "</div>"
      ],
      "text/plain": [
       "                                            Symptoms           Disease\n",
       "0  itching, skin rash, nodal skin eruptions, disc...  Fungal infection\n",
       "1   skin rash, nodal skin eruptions, dischromic  ...  Fungal infection\n",
       "2  itching, nodal skin eruptions, dischromic  pat...  Fungal infection\n",
       "3           itching, skin rash, dischromic  patches,  Fungal infection\n",
       "4          itching, skin rash, nodal skin eruptions,  Fungal infection"
      ]
     },
     "execution_count": 12,
     "metadata": {},
     "output_type": "execute_result"
    }
   ],
   "source": [
    "dataset.head()"
   ]
  },
  {
   "cell_type": "code",
   "execution_count": 13,
   "metadata": {},
   "outputs": [
    {
     "name": "stdout",
     "output_type": "stream",
     "text": [
      "|    | Symptoms                                                   | Disease   |\n",
      "|---:|:-----------------------------------------------------------|:----------|\n",
      "| 70 | fatigue, weight loss, restlessness, lethargy               | Diabetes  |\n",
      "| 71 | fatigue, weight loss, restlessness, lethargy               | Diabetes  |\n",
      "| 72 | weight loss, restlessness, lethargy, irregular sugar level | Diabetes  |\n",
      "| 73 | fatigue, restlessness, lethargy, irregular sugar level     | Diabetes  |\n",
      "| 74 | fatigue, weight loss, lethargy, irregular sugar level      | Diabetes  |\n"
     ]
    }
   ],
   "source": [
    "print(dataset[dataset['Disease']=='Diabetes '].head().to_markdown())"
   ]
  },
  {
   "cell_type": "code",
   "execution_count": 14,
   "metadata": {},
   "outputs": [],
   "source": [
    "from tensorflow.keras.models import Sequential\n",
    "from tensorflow.keras.layers import Embedding, LSTM, Dense, Dropout, Bidirectional\n",
    "from tensorflow.keras.preprocessing.text import Tokenizer\n",
    "from tensorflow.keras.preprocessing.sequence import pad_sequences\n",
    "from tensorflow.keras.callbacks import EarlyStopping, ModelCheckpoint\n",
    "from sklearn.model_selection import train_test_split\n",
    "from sklearn.preprocessing import LabelEncoder\n",
    "from tensorflow.keras.utils import to_categorical"
   ]
  },
  {
   "cell_type": "code",
   "execution_count": 15,
   "metadata": {},
   "outputs": [
    {
     "name": "stderr",
     "output_type": "stream",
     "text": [
      "c:\\Users\\moin2\\AppData\\Local\\Programs\\Python\\Python312\\Lib\\site-packages\\keras\\src\\layers\\core\\embedding.py:90: UserWarning: Argument `input_length` is deprecated. Just remove it.\n",
      "  warnings.warn(\n"
     ]
    },
    {
     "data": {
      "text/html": [
       "<pre style=\"white-space:pre;overflow-x:auto;line-height:normal;font-family:Menlo,'DejaVu Sans Mono',consolas,'Courier New',monospace\"><span style=\"font-weight: bold\">Model: \"sequential\"</span>\n",
       "</pre>\n"
      ],
      "text/plain": [
       "\u001b[1mModel: \"sequential\"\u001b[0m\n"
      ]
     },
     "metadata": {},
     "output_type": "display_data"
    },
    {
     "data": {
      "text/html": [
       "<pre style=\"white-space:pre;overflow-x:auto;line-height:normal;font-family:Menlo,'DejaVu Sans Mono',consolas,'Courier New',monospace\">┏━━━━━━━━━━━━━━━━━━━━━━━━━━━━━━━━━┳━━━━━━━━━━━━━━━━━━━━━━━━┳━━━━━━━━━━━━━━━┓\n",
       "┃<span style=\"font-weight: bold\"> Layer (type)                    </span>┃<span style=\"font-weight: bold\"> Output Shape           </span>┃<span style=\"font-weight: bold\">       Param # </span>┃\n",
       "┡━━━━━━━━━━━━━━━━━━━━━━━━━━━━━━━━━╇━━━━━━━━━━━━━━━━━━━━━━━━╇━━━━━━━━━━━━━━━┩\n",
       "│ embedding (<span style=\"color: #0087ff; text-decoration-color: #0087ff\">Embedding</span>)           │ ?                      │   <span style=\"color: #00af00; text-decoration-color: #00af00\">0</span> (unbuilt) │\n",
       "├─────────────────────────────────┼────────────────────────┼───────────────┤\n",
       "│ bidirectional (<span style=\"color: #0087ff; text-decoration-color: #0087ff\">Bidirectional</span>)   │ ?                      │   <span style=\"color: #00af00; text-decoration-color: #00af00\">0</span> (unbuilt) │\n",
       "├─────────────────────────────────┼────────────────────────┼───────────────┤\n",
       "│ dropout (<span style=\"color: #0087ff; text-decoration-color: #0087ff\">Dropout</span>)               │ ?                      │             <span style=\"color: #00af00; text-decoration-color: #00af00\">0</span> │\n",
       "├─────────────────────────────────┼────────────────────────┼───────────────┤\n",
       "│ lstm_1 (<span style=\"color: #0087ff; text-decoration-color: #0087ff\">LSTM</span>)                   │ ?                      │   <span style=\"color: #00af00; text-decoration-color: #00af00\">0</span> (unbuilt) │\n",
       "├─────────────────────────────────┼────────────────────────┼───────────────┤\n",
       "│ dropout_1 (<span style=\"color: #0087ff; text-decoration-color: #0087ff\">Dropout</span>)             │ ?                      │             <span style=\"color: #00af00; text-decoration-color: #00af00\">0</span> │\n",
       "├─────────────────────────────────┼────────────────────────┼───────────────┤\n",
       "│ dense (<span style=\"color: #0087ff; text-decoration-color: #0087ff\">Dense</span>)                   │ ?                      │   <span style=\"color: #00af00; text-decoration-color: #00af00\">0</span> (unbuilt) │\n",
       "└─────────────────────────────────┴────────────────────────┴───────────────┘\n",
       "</pre>\n"
      ],
      "text/plain": [
       "┏━━━━━━━━━━━━━━━━━━━━━━━━━━━━━━━━━┳━━━━━━━━━━━━━━━━━━━━━━━━┳━━━━━━━━━━━━━━━┓\n",
       "┃\u001b[1m \u001b[0m\u001b[1mLayer (type)                   \u001b[0m\u001b[1m \u001b[0m┃\u001b[1m \u001b[0m\u001b[1mOutput Shape          \u001b[0m\u001b[1m \u001b[0m┃\u001b[1m \u001b[0m\u001b[1m      Param #\u001b[0m\u001b[1m \u001b[0m┃\n",
       "┡━━━━━━━━━━━━━━━━━━━━━━━━━━━━━━━━━╇━━━━━━━━━━━━━━━━━━━━━━━━╇━━━━━━━━━━━━━━━┩\n",
       "│ embedding (\u001b[38;5;33mEmbedding\u001b[0m)           │ ?                      │   \u001b[38;5;34m0\u001b[0m (unbuilt) │\n",
       "├─────────────────────────────────┼────────────────────────┼───────────────┤\n",
       "│ bidirectional (\u001b[38;5;33mBidirectional\u001b[0m)   │ ?                      │   \u001b[38;5;34m0\u001b[0m (unbuilt) │\n",
       "├─────────────────────────────────┼────────────────────────┼───────────────┤\n",
       "│ dropout (\u001b[38;5;33mDropout\u001b[0m)               │ ?                      │             \u001b[38;5;34m0\u001b[0m │\n",
       "├─────────────────────────────────┼────────────────────────┼───────────────┤\n",
       "│ lstm_1 (\u001b[38;5;33mLSTM\u001b[0m)                   │ ?                      │   \u001b[38;5;34m0\u001b[0m (unbuilt) │\n",
       "├─────────────────────────────────┼────────────────────────┼───────────────┤\n",
       "│ dropout_1 (\u001b[38;5;33mDropout\u001b[0m)             │ ?                      │             \u001b[38;5;34m0\u001b[0m │\n",
       "├─────────────────────────────────┼────────────────────────┼───────────────┤\n",
       "│ dense (\u001b[38;5;33mDense\u001b[0m)                   │ ?                      │   \u001b[38;5;34m0\u001b[0m (unbuilt) │\n",
       "└─────────────────────────────────┴────────────────────────┴───────────────┘\n"
      ]
     },
     "metadata": {},
     "output_type": "display_data"
    },
    {
     "data": {
      "text/html": [
       "<pre style=\"white-space:pre;overflow-x:auto;line-height:normal;font-family:Menlo,'DejaVu Sans Mono',consolas,'Courier New',monospace\"><span style=\"font-weight: bold\"> Total params: </span><span style=\"color: #00af00; text-decoration-color: #00af00\">0</span> (0.00 B)\n",
       "</pre>\n"
      ],
      "text/plain": [
       "\u001b[1m Total params: \u001b[0m\u001b[38;5;34m0\u001b[0m (0.00 B)\n"
      ]
     },
     "metadata": {},
     "output_type": "display_data"
    },
    {
     "data": {
      "text/html": [
       "<pre style=\"white-space:pre;overflow-x:auto;line-height:normal;font-family:Menlo,'DejaVu Sans Mono',consolas,'Courier New',monospace\"><span style=\"font-weight: bold\"> Trainable params: </span><span style=\"color: #00af00; text-decoration-color: #00af00\">0</span> (0.00 B)\n",
       "</pre>\n"
      ],
      "text/plain": [
       "\u001b[1m Trainable params: \u001b[0m\u001b[38;5;34m0\u001b[0m (0.00 B)\n"
      ]
     },
     "metadata": {},
     "output_type": "display_data"
    },
    {
     "data": {
      "text/html": [
       "<pre style=\"white-space:pre;overflow-x:auto;line-height:normal;font-family:Menlo,'DejaVu Sans Mono',consolas,'Courier New',monospace\"><span style=\"font-weight: bold\"> Non-trainable params: </span><span style=\"color: #00af00; text-decoration-color: #00af00\">0</span> (0.00 B)\n",
       "</pre>\n"
      ],
      "text/plain": [
       "\u001b[1m Non-trainable params: \u001b[0m\u001b[38;5;34m0\u001b[0m (0.00 B)\n"
      ]
     },
     "metadata": {},
     "output_type": "display_data"
    },
    {
     "name": "stdout",
     "output_type": "stream",
     "text": [
      "Epoch 1/50\n",
      "\u001b[1m787/787\u001b[0m \u001b[32m━━━━━━━━━━━━━━━━━━━━\u001b[0m\u001b[37m\u001b[0m \u001b[1m16s\u001b[0m 13ms/step - accuracy: 0.1543 - loss: 3.1677 - val_accuracy: 0.6637 - val_loss: 1.3536\n",
      "Epoch 2/50\n",
      "\u001b[1m787/787\u001b[0m \u001b[32m━━━━━━━━━━━━━━━━━━━━\u001b[0m\u001b[37m\u001b[0m \u001b[1m9s\u001b[0m 11ms/step - accuracy: 0.6376 - loss: 1.3706 - val_accuracy: 0.8820 - val_loss: 0.6006\n",
      "Epoch 3/50\n",
      "\u001b[1m787/787\u001b[0m \u001b[32m━━━━━━━━━━━━━━━━━━━━\u001b[0m\u001b[37m\u001b[0m \u001b[1m8s\u001b[0m 10ms/step - accuracy: 0.8040 - loss: 0.7881 - val_accuracy: 0.9391 - val_loss: 0.2775\n",
      "Epoch 4/50\n",
      "\u001b[1m787/787\u001b[0m \u001b[32m━━━━━━━━━━━━━━━━━━━━\u001b[0m\u001b[37m\u001b[0m \u001b[1m8s\u001b[0m 10ms/step - accuracy: 0.9051 - loss: 0.5181 - val_accuracy: 0.9822 - val_loss: 0.1601\n",
      "Epoch 5/50\n",
      "\u001b[1m787/787\u001b[0m \u001b[32m━━━━━━━━━━━━━━━━━━━━\u001b[0m\u001b[37m\u001b[0m \u001b[1m7s\u001b[0m 9ms/step - accuracy: 0.9257 - loss: 0.4128 - val_accuracy: 0.9772 - val_loss: 0.1513\n",
      "Epoch 6/50\n",
      "\u001b[1m787/787\u001b[0m \u001b[32m━━━━━━━━━━━━━━━━━━━━\u001b[0m\u001b[37m\u001b[0m \u001b[1m7s\u001b[0m 9ms/step - accuracy: 0.9394 - loss: 0.3041 - val_accuracy: 0.9848 - val_loss: 0.0867\n",
      "Epoch 7/50\n",
      "\u001b[1m787/787\u001b[0m \u001b[32m━━━━━━━━━━━━━━━━━━━━\u001b[0m\u001b[37m\u001b[0m \u001b[1m8s\u001b[0m 11ms/step - accuracy: 0.9474 - loss: 0.2614 - val_accuracy: 0.9886 - val_loss: 0.0610\n",
      "Epoch 8/50\n",
      "\u001b[1m787/787\u001b[0m \u001b[32m━━━━━━━━━━━━━━━━━━━━\u001b[0m\u001b[37m\u001b[0m \u001b[1m8s\u001b[0m 10ms/step - accuracy: 0.9624 - loss: 0.2016 - val_accuracy: 0.9886 - val_loss: 0.0546\n",
      "Epoch 9/50\n",
      "\u001b[1m787/787\u001b[0m \u001b[32m━━━━━━━━━━━━━━━━━━━━\u001b[0m\u001b[37m\u001b[0m \u001b[1m8s\u001b[0m 10ms/step - accuracy: 0.9613 - loss: 0.1956 - val_accuracy: 0.9898 - val_loss: 0.0463\n",
      "Epoch 10/50\n",
      "\u001b[1m787/787\u001b[0m \u001b[32m━━━━━━━━━━━━━━━━━━━━\u001b[0m\u001b[37m\u001b[0m \u001b[1m7s\u001b[0m 9ms/step - accuracy: 0.9699 - loss: 0.1580 - val_accuracy: 0.9898 - val_loss: 0.0418\n",
      "Epoch 11/50\n",
      "\u001b[1m787/787\u001b[0m \u001b[32m━━━━━━━━━━━━━━━━━━━━\u001b[0m\u001b[37m\u001b[0m \u001b[1m7s\u001b[0m 9ms/step - accuracy: 0.9582 - loss: 0.1906 - val_accuracy: 0.9924 - val_loss: 0.0402\n",
      "Epoch 12/50\n",
      "\u001b[1m787/787\u001b[0m \u001b[32m━━━━━━━━━━━━━━━━━━━━\u001b[0m\u001b[37m\u001b[0m \u001b[1m8s\u001b[0m 9ms/step - accuracy: 0.9763 - loss: 0.1394 - val_accuracy: 0.9924 - val_loss: 0.0402\n",
      "Epoch 13/50\n",
      "\u001b[1m787/787\u001b[0m \u001b[32m━━━━━━━━━━━━━━━━━━━━\u001b[0m\u001b[37m\u001b[0m \u001b[1m7s\u001b[0m 9ms/step - accuracy: 0.9796 - loss: 0.1085 - val_accuracy: 0.9924 - val_loss: 0.0327\n",
      "Epoch 14/50\n",
      "\u001b[1m787/787\u001b[0m \u001b[32m━━━━━━━━━━━━━━━━━━━━\u001b[0m\u001b[37m\u001b[0m \u001b[1m8s\u001b[0m 10ms/step - accuracy: 0.9719 - loss: 0.1381 - val_accuracy: 0.9898 - val_loss: 0.0375\n",
      "Epoch 15/50\n",
      "\u001b[1m787/787\u001b[0m \u001b[32m━━━━━━━━━━━━━━━━━━━━\u001b[0m\u001b[37m\u001b[0m \u001b[1m7s\u001b[0m 9ms/step - accuracy: 0.9756 - loss: 0.1188 - val_accuracy: 0.9924 - val_loss: 0.0369\n",
      "Epoch 16/50\n",
      "\u001b[1m787/787\u001b[0m \u001b[32m━━━━━━━━━━━━━━━━━━━━\u001b[0m\u001b[37m\u001b[0m \u001b[1m7s\u001b[0m 9ms/step - accuracy: 0.9840 - loss: 0.1070 - val_accuracy: 0.9924 - val_loss: 0.0350\n",
      "\u001b[1m31/31\u001b[0m \u001b[32m━━━━━━━━━━━━━━━━━━━━\u001b[0m\u001b[37m\u001b[0m \u001b[1m1s\u001b[0m 7ms/step - accuracy: 0.9902 - loss: 0.0363\n",
      "Test Loss: 0.03744547814130783\n",
      "Test Accuracy: 0.9898374080657959\n"
     ]
    }
   ],
   "source": [
    "df = pd.DataFrame(dataset)\n",
    "\n",
    "# Tokenize the symptom texts\n",
    "tokenizer = Tokenizer()\n",
    "tokenizer.fit_on_texts(df['Symptoms'])\n",
    "sequences = tokenizer.texts_to_sequences(df['Symptoms'])\n",
    "word_index = tokenizer.word_index\n",
    "\n",
    "# Pad sequences to ensure uniform input length\n",
    "max_seq_length = max(len(seq) for seq in sequences)\n",
    "padded_sequences = pad_sequences(sequences, maxlen=max_seq_length, padding='post')\n",
    "\n",
    "# Encode Disease labels into one-hot vectors\n",
    "label_encoder = LabelEncoder()\n",
    "integer_labels = label_encoder.fit_transform(df['Disease'])\n",
    "categorical_labels = to_categorical(integer_labels)\n",
    "\n",
    "# Split the data into training and testing sets\n",
    "X_train, X_test, y_train, y_test = train_test_split(padded_sequences, categorical_labels, test_size=0.2, random_state=42)\n",
    "\n",
    "# --- Step 2: Build the Model ---\n",
    "vocab_size = len(word_index) + 1  # +1 for the padding token\n",
    "embedding_dim = 100  # Larger embedding dimension for richer representation\n",
    "\n",
    "model = Sequential()\n",
    "model.add(Embedding(input_dim=vocab_size, output_dim=embedding_dim, input_length=max_seq_length))\n",
    "model.add(Bidirectional(LSTM(64, return_sequences=True)))\n",
    "model.add(Dropout(0.5))\n",
    "model.add(LSTM(32))\n",
    "model.add(Dropout(0.5))\n",
    "model.add(Dense(len(label_encoder.classes_), activation='softmax'))\n",
    "\n",
    "model.compile(loss='categorical_crossentropy', optimizer='adam', metrics=['accuracy'])\n",
    "model.summary()\n",
    "\n",
    "# --- Step 3: Train the Model ---\n",
    "# Define callbacks for early stopping and model checkpointing\n",
    "callbacks = [\n",
    "    EarlyStopping(monitor='val_loss', patience=3, restore_best_weights=True),\n",
    "    ModelCheckpoint(\"best_model.keras\", monitor='val_loss', save_best_only=True)\n",
    "]\n",
    "\n",
    "history = model.fit(\n",
    "    X_train, y_train,\n",
    "    epochs=50,                # Use more epochs for a real dataset\n",
    "    batch_size=4,             # Adjust batch size based on dataset and resources\n",
    "    validation_split=0.2,     # Reserve a portion of training data for validation\n",
    "    callbacks=callbacks,\n",
    "    verbose=1\n",
    ")\n",
    "\n",
    "# --- Step 4: Evaluate the Model ---\n",
    "loss, accuracy = model.evaluate(X_test, y_test)\n",
    "print(\"Test Loss:\", loss)\n",
    "print(\"Test Accuracy:\", accuracy)\n"
   ]
  },
  {
   "cell_type": "code",
   "execution_count": 17,
   "metadata": {},
   "outputs": [
    {
     "name": "stdout",
     "output_type": "stream",
     "text": [
      "\u001b[1m1/1\u001b[0m \u001b[32m━━━━━━━━━━━━━━━━━━━━\u001b[0m\u001b[37m\u001b[0m \u001b[1m0s\u001b[0m 56ms/step\n",
      "Input Symptoms: Fungal infection,itching, skin_rash, nodal_skin_eruptions\n",
      "Predicted Disease: Fungal infection\n"
     ]
    }
   ],
   "source": [
    "# --- Step 5: Predict on a Sample Input ---\n",
    "# Example sample input symptoms (note: this string is preprocessed in the same way as training data)\n",
    "sample_input = \"Fungal infection,itching, skin_rash, nodal_skin_eruptions\"\n",
    "\n",
    "# Tokenize and pad the sample input\n",
    "sample_seq = tokenizer.texts_to_sequences([sample_input])\n",
    "sample_padded = pad_sequences(sample_seq, maxlen=max_seq_length, padding='post')\n",
    "\n",
    "# Predict the probabilities for each disease\n",
    "predictions = model.predict(sample_padded)\n",
    "\n",
    "# Get the index of the highest probability disease\n",
    "predicted_class = np.argmax(predictions, axis=1)\n",
    "\n",
    "# Convert the predicted index back to the disease label\n",
    "predicted_disease = label_encoder.inverse_transform(predicted_class)\n",
    "\n",
    "print(\"Input Symptoms:\", sample_input)\n",
    "print(\"Predicted Disease:\", predicted_disease[0])\n"
   ]
  },
  {
   "cell_type": "code",
   "execution_count": 18,
   "metadata": {},
   "outputs": [],
   "source": [
    "symptoms = pd.read_csv(\"symtoms_df.csv\")\n",
    "precautions = pd.read_csv(\"precautions_df.csv\")\n",
    "workout = pd.read_csv(\"workout_df.csv\")\n",
    "description = pd.read_csv(\"description.csv\")\n",
    "medications = pd.read_csv('medications.csv')\n",
    "diets = pd.read_csv(\"diets.csv\")"
   ]
  },
  {
   "cell_type": "code",
   "execution_count": 34,
   "metadata": {},
   "outputs": [
    {
     "data": {
      "text/html": [
       "<div>\n",
       "<style scoped>\n",
       "    .dataframe tbody tr th:only-of-type {\n",
       "        vertical-align: middle;\n",
       "    }\n",
       "\n",
       "    .dataframe tbody tr th {\n",
       "        vertical-align: top;\n",
       "    }\n",
       "\n",
       "    .dataframe thead th {\n",
       "        text-align: right;\n",
       "    }\n",
       "</style>\n",
       "<table border=\"1\" class=\"dataframe\">\n",
       "  <thead>\n",
       "    <tr style=\"text-align: right;\">\n",
       "      <th></th>\n",
       "      <th>Disease</th>\n",
       "      <th>Description</th>\n",
       "    </tr>\n",
       "  </thead>\n",
       "  <tbody>\n",
       "    <tr>\n",
       "      <th>0</th>\n",
       "      <td>Fungal infection</td>\n",
       "      <td>Fungal infection is a common skin condition ca...</td>\n",
       "    </tr>\n",
       "    <tr>\n",
       "      <th>1</th>\n",
       "      <td>Allergy</td>\n",
       "      <td>Allergy is an immune system reaction to a subs...</td>\n",
       "    </tr>\n",
       "    <tr>\n",
       "      <th>2</th>\n",
       "      <td>GERD</td>\n",
       "      <td>GERD (Gastroesophageal Reflux Disease) is a di...</td>\n",
       "    </tr>\n",
       "    <tr>\n",
       "      <th>3</th>\n",
       "      <td>Chronic cholestasis</td>\n",
       "      <td>Chronic cholestasis is a condition where bile ...</td>\n",
       "    </tr>\n",
       "    <tr>\n",
       "      <th>4</th>\n",
       "      <td>Drug Reaction</td>\n",
       "      <td>Drug Reaction occurs when the body reacts adve...</td>\n",
       "    </tr>\n",
       "    <tr>\n",
       "      <th>5</th>\n",
       "      <td>Peptic ulcer disease</td>\n",
       "      <td>Peptic ulcer disease involves sores that devel...</td>\n",
       "    </tr>\n",
       "    <tr>\n",
       "      <th>6</th>\n",
       "      <td>AIDS</td>\n",
       "      <td>AIDS (Acquired Immunodeficiency Syndrome) is a...</td>\n",
       "    </tr>\n",
       "    <tr>\n",
       "      <th>7</th>\n",
       "      <td>Diabetes</td>\n",
       "      <td>Diabetes is a chronic condition that affects h...</td>\n",
       "    </tr>\n",
       "    <tr>\n",
       "      <th>8</th>\n",
       "      <td>Gastroenteritis</td>\n",
       "      <td>Gastroenteritis is an inflammation of the stom...</td>\n",
       "    </tr>\n",
       "    <tr>\n",
       "      <th>9</th>\n",
       "      <td>Bronchial Asthma</td>\n",
       "      <td>Bronchial Asthma is a respiratory condition ch...</td>\n",
       "    </tr>\n",
       "    <tr>\n",
       "      <th>10</th>\n",
       "      <td>Hypertension</td>\n",
       "      <td>Hypertension, or high blood pressure, is a com...</td>\n",
       "    </tr>\n",
       "    <tr>\n",
       "      <th>11</th>\n",
       "      <td>Migraine</td>\n",
       "      <td>Migraine is a type of headache that often invo...</td>\n",
       "    </tr>\n",
       "    <tr>\n",
       "      <th>12</th>\n",
       "      <td>Cervical spondylosis</td>\n",
       "      <td>Cervical spondylosis is a degenerative conditi...</td>\n",
       "    </tr>\n",
       "    <tr>\n",
       "      <th>13</th>\n",
       "      <td>Paralysis (brain hemorrhage)</td>\n",
       "      <td>Paralysis (brain hemorrhage) refers to the los...</td>\n",
       "    </tr>\n",
       "    <tr>\n",
       "      <th>14</th>\n",
       "      <td>Jaundice</td>\n",
       "      <td>Jaundice is a yellow discoloration of the skin...</td>\n",
       "    </tr>\n",
       "    <tr>\n",
       "      <th>15</th>\n",
       "      <td>Malaria</td>\n",
       "      <td>Malaria is a mosquito-borne infectious disease...</td>\n",
       "    </tr>\n",
       "    <tr>\n",
       "      <th>16</th>\n",
       "      <td>Chicken pox</td>\n",
       "      <td>Chicken pox is a highly contagious viral infec...</td>\n",
       "    </tr>\n",
       "    <tr>\n",
       "      <th>17</th>\n",
       "      <td>Dengue</td>\n",
       "      <td>Dengue is a mosquito-borne viral infection cau...</td>\n",
       "    </tr>\n",
       "    <tr>\n",
       "      <th>18</th>\n",
       "      <td>Typhoid</td>\n",
       "      <td>Typhoid is a bacterial infection that can lead...</td>\n",
       "    </tr>\n",
       "    <tr>\n",
       "      <th>19</th>\n",
       "      <td>hepatitis A</td>\n",
       "      <td>hepatitis A is a viral liver disease.</td>\n",
       "    </tr>\n",
       "    <tr>\n",
       "      <th>20</th>\n",
       "      <td>Hepatitis B</td>\n",
       "      <td>Hepatitis B is a viral infection that attacks ...</td>\n",
       "    </tr>\n",
       "    <tr>\n",
       "      <th>21</th>\n",
       "      <td>Hepatitis C</td>\n",
       "      <td>Hepatitis C is a viral infection that causes l...</td>\n",
       "    </tr>\n",
       "    <tr>\n",
       "      <th>22</th>\n",
       "      <td>Hepatitis D</td>\n",
       "      <td>Hepatitis D is a serious liver disease caused ...</td>\n",
       "    </tr>\n",
       "    <tr>\n",
       "      <th>23</th>\n",
       "      <td>Hepatitis E</td>\n",
       "      <td>Hepatitis E is a viral infection that causes l...</td>\n",
       "    </tr>\n",
       "    <tr>\n",
       "      <th>24</th>\n",
       "      <td>Alcoholic hepatitis</td>\n",
       "      <td>Alcoholic hepatitis is inflammation of the liv...</td>\n",
       "    </tr>\n",
       "    <tr>\n",
       "      <th>25</th>\n",
       "      <td>Tuberculosis</td>\n",
       "      <td>Tuberculosis is a bacterial infection that pri...</td>\n",
       "    </tr>\n",
       "    <tr>\n",
       "      <th>26</th>\n",
       "      <td>Common Cold</td>\n",
       "      <td>Common Cold is a viral infection of the upper ...</td>\n",
       "    </tr>\n",
       "    <tr>\n",
       "      <th>27</th>\n",
       "      <td>Pneumonia</td>\n",
       "      <td>Pneumonia is an inflammatory condition affecti...</td>\n",
       "    </tr>\n",
       "    <tr>\n",
       "      <th>28</th>\n",
       "      <td>Dimorphic hemmorhoids(piles)</td>\n",
       "      <td>Dimorphic hemmorhoids(piles) is a condition ch...</td>\n",
       "    </tr>\n",
       "    <tr>\n",
       "      <th>29</th>\n",
       "      <td>Heart attack</td>\n",
       "      <td>Heart attack is a sudden and severe reduction ...</td>\n",
       "    </tr>\n",
       "    <tr>\n",
       "      <th>30</th>\n",
       "      <td>Varicose veins</td>\n",
       "      <td>Varicose veins are enlarged, twisted veins tha...</td>\n",
       "    </tr>\n",
       "    <tr>\n",
       "      <th>31</th>\n",
       "      <td>Hypothyroidism</td>\n",
       "      <td>Hypothyroidism is a condition where the thyroi...</td>\n",
       "    </tr>\n",
       "    <tr>\n",
       "      <th>32</th>\n",
       "      <td>Hyperthyroidism</td>\n",
       "      <td>Hyperthyroidism is a condition where the thyro...</td>\n",
       "    </tr>\n",
       "    <tr>\n",
       "      <th>33</th>\n",
       "      <td>Hypoglycemia</td>\n",
       "      <td>Hypoglycemia is a condition characterized by a...</td>\n",
       "    </tr>\n",
       "    <tr>\n",
       "      <th>34</th>\n",
       "      <td>Osteoarthristis</td>\n",
       "      <td>Osteoarthristis is a degenerative joint diseas...</td>\n",
       "    </tr>\n",
       "    <tr>\n",
       "      <th>35</th>\n",
       "      <td>Arthritis</td>\n",
       "      <td>Arthritis is inflammation of one or more joint...</td>\n",
       "    </tr>\n",
       "    <tr>\n",
       "      <th>36</th>\n",
       "      <td>(vertigo) Paroymsal Positional Vertigo</td>\n",
       "      <td>(Vertigo) Paroxysmal Positional Vertigo is a t...</td>\n",
       "    </tr>\n",
       "    <tr>\n",
       "      <th>37</th>\n",
       "      <td>Acne</td>\n",
       "      <td>Acne is a skin condition that occurs when hair...</td>\n",
       "    </tr>\n",
       "    <tr>\n",
       "      <th>38</th>\n",
       "      <td>Urinary tract infection</td>\n",
       "      <td>Urinary tract infection is an infection in any...</td>\n",
       "    </tr>\n",
       "    <tr>\n",
       "      <th>39</th>\n",
       "      <td>Psoriasis</td>\n",
       "      <td>Psoriasis is a chronic skin condition characte...</td>\n",
       "    </tr>\n",
       "    <tr>\n",
       "      <th>40</th>\n",
       "      <td>Impetigo</td>\n",
       "      <td>Impetigo is a highly contagious skin infection...</td>\n",
       "    </tr>\n",
       "  </tbody>\n",
       "</table>\n",
       "</div>"
      ],
      "text/plain": [
       "                                   Disease  \\\n",
       "0                         Fungal infection   \n",
       "1                                  Allergy   \n",
       "2                                     GERD   \n",
       "3                      Chronic cholestasis   \n",
       "4                            Drug Reaction   \n",
       "5                     Peptic ulcer disease   \n",
       "6                                     AIDS   \n",
       "7                                 Diabetes   \n",
       "8                          Gastroenteritis   \n",
       "9                         Bronchial Asthma   \n",
       "10                            Hypertension   \n",
       "11                                Migraine   \n",
       "12                    Cervical spondylosis   \n",
       "13            Paralysis (brain hemorrhage)   \n",
       "14                                Jaundice   \n",
       "15                                 Malaria   \n",
       "16                             Chicken pox   \n",
       "17                                  Dengue   \n",
       "18                                 Typhoid   \n",
       "19                             hepatitis A   \n",
       "20                             Hepatitis B   \n",
       "21                             Hepatitis C   \n",
       "22                             Hepatitis D   \n",
       "23                             Hepatitis E   \n",
       "24                     Alcoholic hepatitis   \n",
       "25                            Tuberculosis   \n",
       "26                             Common Cold   \n",
       "27                               Pneumonia   \n",
       "28            Dimorphic hemmorhoids(piles)   \n",
       "29                            Heart attack   \n",
       "30                          Varicose veins   \n",
       "31                          Hypothyroidism   \n",
       "32                         Hyperthyroidism   \n",
       "33                            Hypoglycemia   \n",
       "34                         Osteoarthristis   \n",
       "35                               Arthritis   \n",
       "36  (vertigo) Paroymsal Positional Vertigo   \n",
       "37                                    Acne   \n",
       "38                 Urinary tract infection   \n",
       "39                               Psoriasis   \n",
       "40                                Impetigo   \n",
       "\n",
       "                                          Description  \n",
       "0   Fungal infection is a common skin condition ca...  \n",
       "1   Allergy is an immune system reaction to a subs...  \n",
       "2   GERD (Gastroesophageal Reflux Disease) is a di...  \n",
       "3   Chronic cholestasis is a condition where bile ...  \n",
       "4   Drug Reaction occurs when the body reacts adve...  \n",
       "5   Peptic ulcer disease involves sores that devel...  \n",
       "6   AIDS (Acquired Immunodeficiency Syndrome) is a...  \n",
       "7   Diabetes is a chronic condition that affects h...  \n",
       "8   Gastroenteritis is an inflammation of the stom...  \n",
       "9   Bronchial Asthma is a respiratory condition ch...  \n",
       "10  Hypertension, or high blood pressure, is a com...  \n",
       "11  Migraine is a type of headache that often invo...  \n",
       "12  Cervical spondylosis is a degenerative conditi...  \n",
       "13  Paralysis (brain hemorrhage) refers to the los...  \n",
       "14  Jaundice is a yellow discoloration of the skin...  \n",
       "15  Malaria is a mosquito-borne infectious disease...  \n",
       "16  Chicken pox is a highly contagious viral infec...  \n",
       "17  Dengue is a mosquito-borne viral infection cau...  \n",
       "18  Typhoid is a bacterial infection that can lead...  \n",
       "19              hepatitis A is a viral liver disease.  \n",
       "20  Hepatitis B is a viral infection that attacks ...  \n",
       "21  Hepatitis C is a viral infection that causes l...  \n",
       "22  Hepatitis D is a serious liver disease caused ...  \n",
       "23  Hepatitis E is a viral infection that causes l...  \n",
       "24  Alcoholic hepatitis is inflammation of the liv...  \n",
       "25  Tuberculosis is a bacterial infection that pri...  \n",
       "26  Common Cold is a viral infection of the upper ...  \n",
       "27  Pneumonia is an inflammatory condition affecti...  \n",
       "28  Dimorphic hemmorhoids(piles) is a condition ch...  \n",
       "29  Heart attack is a sudden and severe reduction ...  \n",
       "30  Varicose veins are enlarged, twisted veins tha...  \n",
       "31  Hypothyroidism is a condition where the thyroi...  \n",
       "32  Hyperthyroidism is a condition where the thyro...  \n",
       "33  Hypoglycemia is a condition characterized by a...  \n",
       "34  Osteoarthristis is a degenerative joint diseas...  \n",
       "35  Arthritis is inflammation of one or more joint...  \n",
       "36  (Vertigo) Paroxysmal Positional Vertigo is a t...  \n",
       "37  Acne is a skin condition that occurs when hair...  \n",
       "38  Urinary tract infection is an infection in any...  \n",
       "39  Psoriasis is a chronic skin condition characte...  \n",
       "40  Impetigo is a highly contagious skin infection...  "
      ]
     },
     "execution_count": 34,
     "metadata": {},
     "output_type": "execute_result"
    }
   ],
   "source": [
    "description"
   ]
  },
  {
   "cell_type": "code",
   "execution_count": 38,
   "metadata": {},
   "outputs": [
    {
     "name": "stdout",
     "output_type": "stream",
     "text": [
      "<class 'numpy.ndarray'>\n",
      "object\n"
     ]
    }
   ],
   "source": [
    "print(type(predicted_disease))\n",
    "print(description['Disease'].dtype)\n"
   ]
  },
  {
   "cell_type": "code",
   "execution_count": 36,
   "metadata": {},
   "outputs": [],
   "source": [
    "def mapping(sample_dis):\n",
    "    desc = description[description['Disease'] == sample_dis]['Description']\n",
    "    desc = \" \".join([w for w in desc])\n",
    "\n",
    "    pre = precautions[precautions['Disease'] == sample_dis][['Precaution_1', 'Precaution_2', 'Precaution_3', 'Precaution_4']]\n",
    "    pre = [col for col in pre.values]\n",
    "\n",
    "    med = medications[medications['Disease'] == sample_dis]['Medication']\n",
    "    med = [med for med in med.values]\n",
    "\n",
    "    die = diets[diets['Disease'] == sample_dis]['Diet']\n",
    "    die = [die for die in die.values]\n",
    "\n",
    "    wrkout = workout[workout['disease'] == sample_dis] ['workout']\n",
    "\n",
    "\n",
    "    return desc,pre,med,die,wrkout"
   ]
  },
  {
   "cell_type": "code",
   "execution_count": null,
   "metadata": {},
   "outputs": [
    {
     "name": "stdout",
     "output_type": "stream",
     "text": [
      "predicted disease:\n",
      "Fungal infection\n",
      "description:\n",
      "Fungal infection is a common skin condition caused by fungi.\n",
      "precautions:\n",
      "bath twice\n",
      "use detol or neem in bathing water\n",
      "keep infected area dry\n",
      "use clean cloths\n",
      "medications:\n",
      "['Antifungal Cream', 'Fluconazole', 'Terbinafine', 'Clotrimazole', 'Ketoconazole']\n",
      "workout:\n",
      "Avoid sugary foods\n",
      "Consume probiotics\n",
      "Increase intake of garlic\n",
      "Include yogurt in diet\n",
      "Limit processed foods\n",
      "Stay hydrated\n",
      "Consume green tea\n",
      "Eat foods rich in zinc\n",
      "Include turmeric in diet\n",
      "Eat fruits and vegetables\n",
      "diets:\n",
      "['Antifungal Diet', 'Probiotics', 'Garlic', 'Coconut oil', 'Turmeric']\n"
     ]
    }
   ],
   "source": [
    "desc, pre, med, die, wrkout = mapping(predicted_disease[0])\n",
    "\n",
    "print(\"predicted disease:\")\n",
    "print(predicted_disease[0])\n",
    "print(\"description:\")\n",
    "print(desc)\n",
    "\n",
    "print(\"precautions:\")\n",
    "for i in pre[0]:\n",
    "    print(i)   \n",
    "\n",
    "print(\"medications:\")\n",
    "for i in med:\n",
    "    print( i)\n",
    "    \n",
    "\n",
    "print(\"workout:\")\n",
    "for i in wrkout:\n",
    "    print(i)\n",
    "    \n",
    "\n",
    "print(\"diets:\")\n",
    "for i in die:\n",
    "    print(i)\n",
    "    "
   ]
  },
  {
   "cell_type": "code",
   "execution_count": null,
   "metadata": {},
   "outputs": [],
   "source": []
  },
  {
   "cell_type": "code",
   "execution_count": null,
   "metadata": {},
   "outputs": [],
   "source": []
  },
  {
   "cell_type": "code",
   "execution_count": null,
   "metadata": {},
   "outputs": [],
   "source": []
  },
  {
   "cell_type": "code",
   "execution_count": null,
   "metadata": {},
   "outputs": [],
   "source": []
  },
  {
   "cell_type": "code",
   "execution_count": null,
   "metadata": {},
   "outputs": [],
   "source": []
  },
  {
   "cell_type": "code",
   "execution_count": null,
   "metadata": {},
   "outputs": [],
   "source": []
  }
 ],
 "metadata": {
  "kernelspec": {
   "display_name": "Python 3",
   "language": "python",
   "name": "python3"
  },
  "language_info": {
   "codemirror_mode": {
    "name": "ipython",
    "version": 3
   },
   "file_extension": ".py",
   "mimetype": "text/x-python",
   "name": "python",
   "nbconvert_exporter": "python",
   "pygments_lexer": "ipython3",
   "version": "3.12.8"
  }
 },
 "nbformat": 4,
 "nbformat_minor": 2
}
